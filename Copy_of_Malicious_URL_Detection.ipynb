{
  "cells": [
    {
      "cell_type": "markdown",
      "metadata": {
        "id": "view-in-github",
        "colab_type": "text"
      },
      "source": [
        "<a href=\"https://colab.research.google.com/github/padmarathii/lol2/blob/master/Copy_of_Malicious_URL_Detection.ipynb\" target=\"_parent\"><img src=\"https://colab.research.google.com/assets/colab-badge.svg\" alt=\"Open In Colab\"/></a>"
      ]
    },
    {
      "cell_type": "markdown",
      "metadata": {
        "id": "7QCqHt_rKVdj"
      },
      "source": [
        "Importing the Libraries"
      ]
    },
    {
      "cell_type": "code",
      "execution_count": null,
      "metadata": {
        "colab": {
          "base_uri": "https://localhost:8080/"
        },
        "id": "XfHXFBr1GGWg",
        "outputId": "2afab513-47d5-47e9-b712-1983f537f8f2"
      },
      "outputs": [
        {
          "output_type": "stream",
          "name": "stdout",
          "text": [
            "Mounted at /content/gdrive/\n"
          ]
        }
      ],
      "source": [
        "import pandas as pd\n",
        "import itertools\n",
        "from sklearn.metrics import classification_report, confusion_matrix, accuracy_score\n",
        "import sklearn.metrics as metrics\n",
        "from sklearn.model_selection import train_test_split\n",
        "import numpy as np\n",
        "import matplotlib.pyplot as plt\n",
        "import xgboost as xgb\n",
        "from lightgbm import LGBMClassifier\n",
        "import os\n",
        "import seaborn as sns\n",
        "from wordcloud import WordCloud\n",
        "\n",
        "from google.colab import drive\n",
        "drive.mount('/content/gdrive/', force_remount=True)"
      ]
    },
    {
      "cell_type": "markdown",
      "metadata": {
        "id": "iLKdinnQKa8I"
      },
      "source": [
        "Loading the Dataset"
      ]
    },
    {
      "cell_type": "code",
      "execution_count": null,
      "metadata": {
        "colab": {
          "base_uri": "https://localhost:8080/",
          "height": 223
        },
        "id": "JC72VoC3HO0y",
        "outputId": "cb3a5d65-2390-4c27-80ff-b0ac263a3d35"
      },
      "outputs": [
        {
          "output_type": "stream",
          "name": "stdout",
          "text": [
            "(651191, 2)\n"
          ]
        },
        {
          "output_type": "execute_result",
          "data": {
            "text/plain": [
              "                                                 url        type\n",
              "0                                   br-icloud.com.br    phishing\n",
              "1                mp3raid.com/music/krizz_kaliko.html      benign\n",
              "2                    bopsecrets.org/rexroth/cr/1.htm      benign\n",
              "3  http://www.garage-pirenne.be/index.php?option=...  defacement\n",
              "4  http://adventure-nicaragua.net/index.php?optio...  defacement"
            ],
            "text/html": [
              "\n",
              "  <div id=\"df-8ca4709b-9942-451a-b05f-c8d60f2b7041\">\n",
              "    <div class=\"colab-df-container\">\n",
              "      <div>\n",
              "<style scoped>\n",
              "    .dataframe tbody tr th:only-of-type {\n",
              "        vertical-align: middle;\n",
              "    }\n",
              "\n",
              "    .dataframe tbody tr th {\n",
              "        vertical-align: top;\n",
              "    }\n",
              "\n",
              "    .dataframe thead th {\n",
              "        text-align: right;\n",
              "    }\n",
              "</style>\n",
              "<table border=\"1\" class=\"dataframe\">\n",
              "  <thead>\n",
              "    <tr style=\"text-align: right;\">\n",
              "      <th></th>\n",
              "      <th>url</th>\n",
              "      <th>type</th>\n",
              "    </tr>\n",
              "  </thead>\n",
              "  <tbody>\n",
              "    <tr>\n",
              "      <th>0</th>\n",
              "      <td>br-icloud.com.br</td>\n",
              "      <td>phishing</td>\n",
              "    </tr>\n",
              "    <tr>\n",
              "      <th>1</th>\n",
              "      <td>mp3raid.com/music/krizz_kaliko.html</td>\n",
              "      <td>benign</td>\n",
              "    </tr>\n",
              "    <tr>\n",
              "      <th>2</th>\n",
              "      <td>bopsecrets.org/rexroth/cr/1.htm</td>\n",
              "      <td>benign</td>\n",
              "    </tr>\n",
              "    <tr>\n",
              "      <th>3</th>\n",
              "      <td>http://www.garage-pirenne.be/index.php?option=...</td>\n",
              "      <td>defacement</td>\n",
              "    </tr>\n",
              "    <tr>\n",
              "      <th>4</th>\n",
              "      <td>http://adventure-nicaragua.net/index.php?optio...</td>\n",
              "      <td>defacement</td>\n",
              "    </tr>\n",
              "  </tbody>\n",
              "</table>\n",
              "</div>\n",
              "      <button class=\"colab-df-convert\" onclick=\"convertToInteractive('df-8ca4709b-9942-451a-b05f-c8d60f2b7041')\"\n",
              "              title=\"Convert this dataframe to an interactive table.\"\n",
              "              style=\"display:none;\">\n",
              "        \n",
              "  <svg xmlns=\"http://www.w3.org/2000/svg\" height=\"24px\"viewBox=\"0 0 24 24\"\n",
              "       width=\"24px\">\n",
              "    <path d=\"M0 0h24v24H0V0z\" fill=\"none\"/>\n",
              "    <path d=\"M18.56 5.44l.94 2.06.94-2.06 2.06-.94-2.06-.94-.94-2.06-.94 2.06-2.06.94zm-11 1L8.5 8.5l.94-2.06 2.06-.94-2.06-.94L8.5 2.5l-.94 2.06-2.06.94zm10 10l.94 2.06.94-2.06 2.06-.94-2.06-.94-.94-2.06-.94 2.06-2.06.94z\"/><path d=\"M17.41 7.96l-1.37-1.37c-.4-.4-.92-.59-1.43-.59-.52 0-1.04.2-1.43.59L10.3 9.45l-7.72 7.72c-.78.78-.78 2.05 0 2.83L4 21.41c.39.39.9.59 1.41.59.51 0 1.02-.2 1.41-.59l7.78-7.78 2.81-2.81c.8-.78.8-2.07 0-2.86zM5.41 20L4 18.59l7.72-7.72 1.47 1.35L5.41 20z\"/>\n",
              "  </svg>\n",
              "      </button>\n",
              "      \n",
              "  <style>\n",
              "    .colab-df-container {\n",
              "      display:flex;\n",
              "      flex-wrap:wrap;\n",
              "      gap: 12px;\n",
              "    }\n",
              "\n",
              "    .colab-df-convert {\n",
              "      background-color: #E8F0FE;\n",
              "      border: none;\n",
              "      border-radius: 50%;\n",
              "      cursor: pointer;\n",
              "      display: none;\n",
              "      fill: #1967D2;\n",
              "      height: 32px;\n",
              "      padding: 0 0 0 0;\n",
              "      width: 32px;\n",
              "    }\n",
              "\n",
              "    .colab-df-convert:hover {\n",
              "      background-color: #E2EBFA;\n",
              "      box-shadow: 0px 1px 2px rgba(60, 64, 67, 0.3), 0px 1px 3px 1px rgba(60, 64, 67, 0.15);\n",
              "      fill: #174EA6;\n",
              "    }\n",
              "\n",
              "    [theme=dark] .colab-df-convert {\n",
              "      background-color: #3B4455;\n",
              "      fill: #D2E3FC;\n",
              "    }\n",
              "\n",
              "    [theme=dark] .colab-df-convert:hover {\n",
              "      background-color: #434B5C;\n",
              "      box-shadow: 0px 1px 3px 1px rgba(0, 0, 0, 0.15);\n",
              "      filter: drop-shadow(0px 1px 2px rgba(0, 0, 0, 0.3));\n",
              "      fill: #FFFFFF;\n",
              "    }\n",
              "  </style>\n",
              "\n",
              "      <script>\n",
              "        const buttonEl =\n",
              "          document.querySelector('#df-8ca4709b-9942-451a-b05f-c8d60f2b7041 button.colab-df-convert');\n",
              "        buttonEl.style.display =\n",
              "          google.colab.kernel.accessAllowed ? 'block' : 'none';\n",
              "\n",
              "        async function convertToInteractive(key) {\n",
              "          const element = document.querySelector('#df-8ca4709b-9942-451a-b05f-c8d60f2b7041');\n",
              "          const dataTable =\n",
              "            await google.colab.kernel.invokeFunction('convertToInteractive',\n",
              "                                                     [key], {});\n",
              "          if (!dataTable) return;\n",
              "\n",
              "          const docLinkHtml = 'Like what you see? Visit the ' +\n",
              "            '<a target=\"_blank\" href=https://colab.research.google.com/notebooks/data_table.ipynb>data table notebook</a>'\n",
              "            + ' to learn more about interactive tables.';\n",
              "          element.innerHTML = '';\n",
              "          dataTable['output_type'] = 'display_data';\n",
              "          await google.colab.output.renderOutput(dataTable, element);\n",
              "          const docLink = document.createElement('div');\n",
              "          docLink.innerHTML = docLinkHtml;\n",
              "          element.appendChild(docLink);\n",
              "        }\n",
              "      </script>\n",
              "    </div>\n",
              "  </div>\n",
              "  "
            ]
          },
          "metadata": {},
          "execution_count": 83
        }
      ],
      "source": [
        "data = pd.read_csv('gdrive/MyDrive/ext/malicious_phish.csv')\n",
        "print(data.shape)\n",
        "data.head()"
      ]
    },
    {
      "cell_type": "code",
      "execution_count": null,
      "metadata": {
        "colab": {
          "base_uri": "https://localhost:8080/"
        },
        "id": "vQNpRPQjI72k",
        "outputId": "2ab0e333-e3a1-4d63-d05d-51a1e7f3923e"
      },
      "outputs": [
        {
          "output_type": "execute_result",
          "data": {
            "text/plain": [
              "benign        428103\n",
              "defacement     96457\n",
              "phishing       94111\n",
              "malware        32520\n",
              "Name: type, dtype: int64"
            ]
          },
          "metadata": {},
          "execution_count": 84
        }
      ],
      "source": [
        "data.type.value_counts()"
      ]
    },
    {
      "cell_type": "markdown",
      "metadata": {
        "id": "CehYE6ZEMDw8"
      },
      "source": [
        "Feature Engineering"
      ]
    },
    {
      "cell_type": "code",
      "execution_count": null,
      "metadata": {
        "id": "6yyDSKGJKPWX"
      },
      "outputs": [],
      "source": [
        "# Use of IP or not in domain\n",
        "import re\n",
        "\n",
        "def having_ip_address(url):\n",
        "    match = re.search(\n",
        "        '(([01]?\\\\d\\\\d?|2[0-4]\\\\d|25[0-5])\\\\.([01]?\\\\d\\\\d?|2[0-4]\\\\d|25[0-5])\\\\.([01]?\\\\d\\\\d?|2[0-4]\\\\d|25[0-5])\\\\.'\n",
        "        '([01]?\\\\d\\\\d?|2[0-4]\\\\d|25[0-5])\\\\/)|'  # IPv4\n",
        "        '((0x[0-9a-fA-F]{1,2})\\\\.(0x[0-9a-fA-F]{1,2})\\\\.(0x[0-9a-fA-F]{1,2})\\\\.(0x[0-9a-fA-F]{1,2})\\\\/)' # IPv4 in hexadecimal\n",
        "        '(?:[a-fA-F0-9]{1,4}:){7}[a-fA-F0-9]{1,4}', url)  # Ipv6\n",
        "    if match:\n",
        "        # print match.group()\n",
        "        return 1\n",
        "    else:\n",
        "        # print 'No matching pattern found'\n",
        "        return 0\n",
        "data['use_of_ip'] = data['url'].apply(lambda i: having_ip_address(i))"
      ]
    },
    {
      "cell_type": "code",
      "execution_count": null,
      "metadata": {
        "id": "_ge-TPMjOjKq"
      },
      "outputs": [],
      "source": [
        "# Abnormal URL\n",
        "\n",
        "from urllib.parse import urlparse\n",
        "\n",
        "def abnormal_url(url):\n",
        "    hostname = urlparse(url).hostname\n",
        "    hostname = str(hostname)\n",
        "    match = re.search(hostname, url)\n",
        "    if match:\n",
        "        # print match.group()\n",
        "        return 1\n",
        "    else:\n",
        "        # print 'No matching pattern found'\n",
        "        return 0\n",
        "\n",
        "\n",
        "data['abnormal_url'] = data['url'].apply(lambda i: abnormal_url(i))"
      ]
    },
    {
      "cell_type": "code",
      "execution_count": null,
      "metadata": {
        "id": "3fApW9b2URq5"
      },
      "outputs": [],
      "source": [
        "# Google Index\n",
        "\n",
        "# pip install googlesearch-python\n",
        "\n",
        "from googlesearch import search\n",
        "\n",
        "def google_index(url):\n",
        "    site = search(url, 5)\n",
        "    return 1 if site else 0\n",
        "data['google_index'] = data['url'].apply(lambda i: google_index(i))"
      ]
    },
    {
      "cell_type": "code",
      "execution_count": null,
      "metadata": {
        "id": "ylbAs11uU5YS"
      },
      "outputs": [],
      "source": [
        "# Count \".\"\n",
        "\n",
        "def count_dot(url):\n",
        "    count_dot = url.count('.')\n",
        "    return count_dot\n",
        "\n",
        "data['count.'] = data['url'].apply(lambda i: count_dot(i))\n",
        "\n",
        "# Count \"www\"\n",
        "\n",
        "def count_www(url):\n",
        "    url.count('www')\n",
        "    return url.count('www')\n",
        "\n",
        "data['count-www'] = data['url'].apply(lambda i: count_www(i))\n",
        "\n",
        "# Count \"@\"\n",
        "\n",
        "def count_atrate(url):\n",
        "     \n",
        "    return url.count('@')\n",
        "\n",
        "data['count@'] = data['url'].apply(lambda i: count_atrate(i))\n",
        "\n",
        "# Count \"number of directories\"\n",
        "\n",
        "def no_of_dir(url):\n",
        "    urldir = urlparse(url).path\n",
        "    return urldir.count('/')\n",
        "\n",
        "data['count_dir'] = data['url'].apply(lambda i: no_of_dir(i))\n",
        "\n",
        "# Count \"number of embeded domains\"\n",
        "def no_of_embed(url):\n",
        "    urldir = urlparse(url).path\n",
        "    return urldir.count('//')\n",
        "\n",
        "data['count_embed_domian'] = data['url'].apply(lambda i: no_of_embed(i))\n",
        "\n",
        "# Count \"https\"\n",
        "\n",
        "def count_https(url):\n",
        "    return url.count('https')\n",
        "\n",
        "data['count-https'] = data['url'].apply(lambda i : count_https(i))\n",
        "\n",
        "# Count \"http\"\n",
        "\n",
        "def count_http(url):\n",
        "    return url.count('http')\n",
        "\n",
        "data['count-http'] = data['url'].apply(lambda i : count_http(i))\n",
        "\n",
        "# Count \"%\"\n",
        "\n",
        "def count_per(url):\n",
        "    return url.count('%')\n",
        "\n",
        "data['count%'] = data['url'].apply(lambda i : count_per(i))\n",
        "\n",
        "# Count \"?\"\n",
        "\n",
        "def count_ques(url):\n",
        "    return url.count('?')\n",
        "\n",
        "data['count?'] = data['url'].apply(lambda i: count_ques(i))\n",
        "\n",
        "# Count \"-\"\n",
        "def count_hyphen(url):\n",
        "    return url.count('-')\n",
        "\n",
        "data['count-'] = data['url'].apply(lambda i: count_hyphen(i))\n",
        "\n",
        "# Count \"=\"\n",
        "def count_equal(url):\n",
        "    return url.count('=')\n",
        "\n",
        "data['count='] = data['url'].apply(lambda i: count_equal(i))\n",
        "\n",
        "# Count \"Digits\"\n",
        "\n",
        "def digit_count(url):\n",
        "    digits = 0\n",
        "    for i in url:\n",
        "        if i.isnumeric():\n",
        "            digits = digits + 1\n",
        "    return digits\n",
        "\n",
        "\n",
        "data['count-digits']= data['url'].apply(lambda i: digit_count(i))\n",
        "\n",
        "# Count \"Letters\"\n",
        "\n",
        "def letter_count(url):\n",
        "    letters = 0\n",
        "    for i in url:\n",
        "        if i.isalpha():\n",
        "            letters = letters + 1\n",
        "    return letters\n",
        "\n",
        "data['count-letters']= data['url'].apply(lambda i: letter_count(i))"
      ]
    },
    {
      "cell_type": "code",
      "execution_count": null,
      "metadata": {
        "id": "xgOiTffPXcQi"
      },
      "outputs": [],
      "source": [
        "# Suspicious words in URL\n",
        "\n",
        "def suspicious_words(url):\n",
        "    match = re.search('PayPal|login|signin|bank|account|update|free|lucky|service|bonus|ebayisapi|webscr',\n",
        "                      url)\n",
        "    if match:\n",
        "        return 1\n",
        "    else:\n",
        "        return 0\n",
        "data['sus_url'] = data['url'].apply(lambda i: suspicious_words(i))\n"
      ]
    },
    {
      "cell_type": "code",
      "execution_count": null,
      "metadata": {
        "id": "LZr75cX5YDsi"
      },
      "outputs": [],
      "source": [
        "# Short URL\n",
        "\n",
        "def shortening_service(url):\n",
        "    match = re.search('bit\\.ly|goo\\.gl|shorte\\.st|go2l\\.ink|x\\.co|ow\\.ly|t\\.co|tinyurl|tr\\.im|is\\.gd|cli\\.gs|'\n",
        "                      'yfrog\\.com|migre\\.me|ff\\.im|tiny\\.cc|url4\\.eu|twit\\.ac|su\\.pr|twurl\\.nl|snipurl\\.com|'\n",
        "                      'short\\.to|BudURL\\.com|ping\\.fm|post\\.ly|Just\\.as|bkite\\.com|snipr\\.com|fic\\.kr|loopt\\.us|'\n",
        "                      'doiop\\.com|short\\.ie|kl\\.am|wp\\.me|rubyurl\\.com|om\\.ly|to\\.ly|bit\\.do|t\\.co|lnkd\\.in|'\n",
        "                      'db\\.tt|qr\\.ae|adf\\.ly|goo\\.gl|bitly\\.com|cur\\.lv|tinyurl\\.com|ow\\.ly|bit\\.ly|ity\\.im|'\n",
        "                      'q\\.gs|is\\.gd|po\\.st|bc\\.vc|twitthis\\.com|u\\.to|j\\.mp|buzurl\\.com|cutt\\.us|u\\.bb|yourls\\.org|'\n",
        "                      'x\\.co|prettylinkpro\\.com|scrnch\\.me|filoops\\.info|vzturl\\.com|qr\\.net|1url\\.com|tweez\\.me|v\\.gd|'\n",
        "                      'tr\\.im|link\\.zip\\.net',\n",
        "                      url)\n",
        "    if match:\n",
        "        return 1\n",
        "    else:\n",
        "        return 0\n",
        "    \n",
        "data['short_url'] = data['url'].apply(lambda i: shortening_service(i))"
      ]
    },
    {
      "cell_type": "code",
      "execution_count": null,
      "metadata": {
        "id": "nqfinLqjZ2Ok"
      },
      "outputs": [],
      "source": [
        "# Length of URL\n",
        "\n",
        "def url_length(url):\n",
        "  return len(str(url))\n",
        "data['url_length'] = data['url'].apply(lambda i: url_length(i))"
      ]
    },
    {
      "cell_type": "code",
      "execution_count": null,
      "metadata": {
        "id": "yarvauFVYjLU"
      },
      "outputs": [],
      "source": [
        "# Hostname Length\n",
        "\n",
        "def hostname_length(url):\n",
        "    return len(urlparse(url).netloc)\n",
        "\n",
        "data['hostname_length'] = data['url'].apply(lambda i: hostname_length(i))"
      ]
    },
    {
      "cell_type": "code",
      "execution_count": null,
      "metadata": {
        "id": "G3SUVf5YZEl2"
      },
      "outputs": [],
      "source": [
        "# First Directory Length\n",
        "\n",
        "def fd_length(url):\n",
        "    urlpath= urlparse(url).path\n",
        "    try:\n",
        "        return len(urlpath.split('/')[1])\n",
        "    except:\n",
        "        return 0\n",
        "\n",
        "data['fd_length'] = data['url'].apply(lambda i: fd_length(i))\n"
      ]
    },
    {
      "cell_type": "code",
      "execution_count": null,
      "metadata": {
        "colab": {
          "base_uri": "https://localhost:8080/"
        },
        "id": "xIaLpu_DcG7Y",
        "outputId": "3d81458c-8620-451a-a3c8-1bcd16b70cdc"
      },
      "outputs": [
        {
          "output_type": "stream",
          "name": "stdout",
          "text": [
            "Looking in indexes: https://pypi.org/simple, https://us-python.pkg.dev/colab-wheels/public/simple/\n",
            "Requirement already satisfied: tld in /usr/local/lib/python3.8/dist-packages (0.12.7)\n"
          ]
        }
      ],
      "source": [
        "pip install tld"
      ]
    },
    {
      "cell_type": "code",
      "execution_count": null,
      "metadata": {
        "id": "lwa-WSZkatOq"
      },
      "outputs": [],
      "source": [
        "# Length of Top-level Domains\n",
        "\n",
        "from urllib.parse import urlparse\n",
        "from tld import get_tld\n",
        "import os.path\n",
        "data['tld'] = data['url'].apply(lambda i: get_tld(i,fail_silently=True))\n",
        "\n",
        "\n",
        "def tld_length(tld):\n",
        "    try:\n",
        "        return len(tld)\n",
        "    except:\n",
        "        return -1\n",
        "\n",
        "data['tld_length'] = data['tld'].apply(lambda i: tld_length(i))"
      ]
    },
    {
      "cell_type": "code",
      "execution_count": null,
      "metadata": {
        "colab": {
          "base_uri": "https://localhost:8080/"
        },
        "id": "2DObkJLDbBxQ",
        "outputId": "853fb0bc-0ee8-4626-f22d-01c2af5f80cb"
      },
      "outputs": [
        {
          "output_type": "execute_result",
          "data": {
            "text/plain": [
              "(651191, 25)"
            ]
          },
          "metadata": {},
          "execution_count": 96
        }
      ],
      "source": [
        "data.shape"
      ]
    },
    {
      "cell_type": "code",
      "execution_count": null,
      "metadata": {
        "colab": {
          "base_uri": "https://localhost:8080/",
          "height": 351
        },
        "id": "GmPmdry7b1Q7",
        "outputId": "9b136808-c677-4ff6-d4b9-ff9abc2c918c"
      },
      "outputs": [
        {
          "output_type": "execute_result",
          "data": {
            "text/plain": [
              "                                                 url        type  use_of_ip  \\\n",
              "0                                   br-icloud.com.br    phishing          0   \n",
              "1                mp3raid.com/music/krizz_kaliko.html      benign          0   \n",
              "2                    bopsecrets.org/rexroth/cr/1.htm      benign          0   \n",
              "3  http://www.garage-pirenne.be/index.php?option=...  defacement          0   \n",
              "4  http://adventure-nicaragua.net/index.php?optio...  defacement          0   \n",
              "\n",
              "   abnormal_url  google_index  count.  count-www  count@  count_dir  \\\n",
              "0             0             1       2          0       0          0   \n",
              "1             0             1       2          0       0          2   \n",
              "2             0             1       2          0       0          3   \n",
              "3             1             1       3          1       0          1   \n",
              "4             1             1       2          0       0          1   \n",
              "\n",
              "   count_embed_domian  ...  count=  count-digits  count-letters  sus_url  \\\n",
              "0                   0  ...       0             0             13        0   \n",
              "1                   0  ...       0             1             29        0   \n",
              "2                   0  ...       0             1             25        0   \n",
              "3                   0  ...       4             7             63        0   \n",
              "4                   0  ...       3            22            199        0   \n",
              "\n",
              "   short_url  url_length  hostname_length  fd_length   tld  tld_length  \n",
              "0          0          16                0          0  None          -1  \n",
              "1          0          35                0          5  None          -1  \n",
              "2          0          31                0          7  None          -1  \n",
              "3          0          88               21          9    be           2  \n",
              "4          0         235               23          9   net           3  \n",
              "\n",
              "[5 rows x 25 columns]"
            ],
            "text/html": [
              "\n",
              "  <div id=\"df-e365b4e9-4a3a-4c00-9fd0-004ae6f563db\">\n",
              "    <div class=\"colab-df-container\">\n",
              "      <div>\n",
              "<style scoped>\n",
              "    .dataframe tbody tr th:only-of-type {\n",
              "        vertical-align: middle;\n",
              "    }\n",
              "\n",
              "    .dataframe tbody tr th {\n",
              "        vertical-align: top;\n",
              "    }\n",
              "\n",
              "    .dataframe thead th {\n",
              "        text-align: right;\n",
              "    }\n",
              "</style>\n",
              "<table border=\"1\" class=\"dataframe\">\n",
              "  <thead>\n",
              "    <tr style=\"text-align: right;\">\n",
              "      <th></th>\n",
              "      <th>url</th>\n",
              "      <th>type</th>\n",
              "      <th>use_of_ip</th>\n",
              "      <th>abnormal_url</th>\n",
              "      <th>google_index</th>\n",
              "      <th>count.</th>\n",
              "      <th>count-www</th>\n",
              "      <th>count@</th>\n",
              "      <th>count_dir</th>\n",
              "      <th>count_embed_domian</th>\n",
              "      <th>...</th>\n",
              "      <th>count=</th>\n",
              "      <th>count-digits</th>\n",
              "      <th>count-letters</th>\n",
              "      <th>sus_url</th>\n",
              "      <th>short_url</th>\n",
              "      <th>url_length</th>\n",
              "      <th>hostname_length</th>\n",
              "      <th>fd_length</th>\n",
              "      <th>tld</th>\n",
              "      <th>tld_length</th>\n",
              "    </tr>\n",
              "  </thead>\n",
              "  <tbody>\n",
              "    <tr>\n",
              "      <th>0</th>\n",
              "      <td>br-icloud.com.br</td>\n",
              "      <td>phishing</td>\n",
              "      <td>0</td>\n",
              "      <td>0</td>\n",
              "      <td>1</td>\n",
              "      <td>2</td>\n",
              "      <td>0</td>\n",
              "      <td>0</td>\n",
              "      <td>0</td>\n",
              "      <td>0</td>\n",
              "      <td>...</td>\n",
              "      <td>0</td>\n",
              "      <td>0</td>\n",
              "      <td>13</td>\n",
              "      <td>0</td>\n",
              "      <td>0</td>\n",
              "      <td>16</td>\n",
              "      <td>0</td>\n",
              "      <td>0</td>\n",
              "      <td>None</td>\n",
              "      <td>-1</td>\n",
              "    </tr>\n",
              "    <tr>\n",
              "      <th>1</th>\n",
              "      <td>mp3raid.com/music/krizz_kaliko.html</td>\n",
              "      <td>benign</td>\n",
              "      <td>0</td>\n",
              "      <td>0</td>\n",
              "      <td>1</td>\n",
              "      <td>2</td>\n",
              "      <td>0</td>\n",
              "      <td>0</td>\n",
              "      <td>2</td>\n",
              "      <td>0</td>\n",
              "      <td>...</td>\n",
              "      <td>0</td>\n",
              "      <td>1</td>\n",
              "      <td>29</td>\n",
              "      <td>0</td>\n",
              "      <td>0</td>\n",
              "      <td>35</td>\n",
              "      <td>0</td>\n",
              "      <td>5</td>\n",
              "      <td>None</td>\n",
              "      <td>-1</td>\n",
              "    </tr>\n",
              "    <tr>\n",
              "      <th>2</th>\n",
              "      <td>bopsecrets.org/rexroth/cr/1.htm</td>\n",
              "      <td>benign</td>\n",
              "      <td>0</td>\n",
              "      <td>0</td>\n",
              "      <td>1</td>\n",
              "      <td>2</td>\n",
              "      <td>0</td>\n",
              "      <td>0</td>\n",
              "      <td>3</td>\n",
              "      <td>0</td>\n",
              "      <td>...</td>\n",
              "      <td>0</td>\n",
              "      <td>1</td>\n",
              "      <td>25</td>\n",
              "      <td>0</td>\n",
              "      <td>0</td>\n",
              "      <td>31</td>\n",
              "      <td>0</td>\n",
              "      <td>7</td>\n",
              "      <td>None</td>\n",
              "      <td>-1</td>\n",
              "    </tr>\n",
              "    <tr>\n",
              "      <th>3</th>\n",
              "      <td>http://www.garage-pirenne.be/index.php?option=...</td>\n",
              "      <td>defacement</td>\n",
              "      <td>0</td>\n",
              "      <td>1</td>\n",
              "      <td>1</td>\n",
              "      <td>3</td>\n",
              "      <td>1</td>\n",
              "      <td>0</td>\n",
              "      <td>1</td>\n",
              "      <td>0</td>\n",
              "      <td>...</td>\n",
              "      <td>4</td>\n",
              "      <td>7</td>\n",
              "      <td>63</td>\n",
              "      <td>0</td>\n",
              "      <td>0</td>\n",
              "      <td>88</td>\n",
              "      <td>21</td>\n",
              "      <td>9</td>\n",
              "      <td>be</td>\n",
              "      <td>2</td>\n",
              "    </tr>\n",
              "    <tr>\n",
              "      <th>4</th>\n",
              "      <td>http://adventure-nicaragua.net/index.php?optio...</td>\n",
              "      <td>defacement</td>\n",
              "      <td>0</td>\n",
              "      <td>1</td>\n",
              "      <td>1</td>\n",
              "      <td>2</td>\n",
              "      <td>0</td>\n",
              "      <td>0</td>\n",
              "      <td>1</td>\n",
              "      <td>0</td>\n",
              "      <td>...</td>\n",
              "      <td>3</td>\n",
              "      <td>22</td>\n",
              "      <td>199</td>\n",
              "      <td>0</td>\n",
              "      <td>0</td>\n",
              "      <td>235</td>\n",
              "      <td>23</td>\n",
              "      <td>9</td>\n",
              "      <td>net</td>\n",
              "      <td>3</td>\n",
              "    </tr>\n",
              "  </tbody>\n",
              "</table>\n",
              "<p>5 rows × 25 columns</p>\n",
              "</div>\n",
              "      <button class=\"colab-df-convert\" onclick=\"convertToInteractive('df-e365b4e9-4a3a-4c00-9fd0-004ae6f563db')\"\n",
              "              title=\"Convert this dataframe to an interactive table.\"\n",
              "              style=\"display:none;\">\n",
              "        \n",
              "  <svg xmlns=\"http://www.w3.org/2000/svg\" height=\"24px\"viewBox=\"0 0 24 24\"\n",
              "       width=\"24px\">\n",
              "    <path d=\"M0 0h24v24H0V0z\" fill=\"none\"/>\n",
              "    <path d=\"M18.56 5.44l.94 2.06.94-2.06 2.06-.94-2.06-.94-.94-2.06-.94 2.06-2.06.94zm-11 1L8.5 8.5l.94-2.06 2.06-.94-2.06-.94L8.5 2.5l-.94 2.06-2.06.94zm10 10l.94 2.06.94-2.06 2.06-.94-2.06-.94-.94-2.06-.94 2.06-2.06.94z\"/><path d=\"M17.41 7.96l-1.37-1.37c-.4-.4-.92-.59-1.43-.59-.52 0-1.04.2-1.43.59L10.3 9.45l-7.72 7.72c-.78.78-.78 2.05 0 2.83L4 21.41c.39.39.9.59 1.41.59.51 0 1.02-.2 1.41-.59l7.78-7.78 2.81-2.81c.8-.78.8-2.07 0-2.86zM5.41 20L4 18.59l7.72-7.72 1.47 1.35L5.41 20z\"/>\n",
              "  </svg>\n",
              "      </button>\n",
              "      \n",
              "  <style>\n",
              "    .colab-df-container {\n",
              "      display:flex;\n",
              "      flex-wrap:wrap;\n",
              "      gap: 12px;\n",
              "    }\n",
              "\n",
              "    .colab-df-convert {\n",
              "      background-color: #E8F0FE;\n",
              "      border: none;\n",
              "      border-radius: 50%;\n",
              "      cursor: pointer;\n",
              "      display: none;\n",
              "      fill: #1967D2;\n",
              "      height: 32px;\n",
              "      padding: 0 0 0 0;\n",
              "      width: 32px;\n",
              "    }\n",
              "\n",
              "    .colab-df-convert:hover {\n",
              "      background-color: #E2EBFA;\n",
              "      box-shadow: 0px 1px 2px rgba(60, 64, 67, 0.3), 0px 1px 3px 1px rgba(60, 64, 67, 0.15);\n",
              "      fill: #174EA6;\n",
              "    }\n",
              "\n",
              "    [theme=dark] .colab-df-convert {\n",
              "      background-color: #3B4455;\n",
              "      fill: #D2E3FC;\n",
              "    }\n",
              "\n",
              "    [theme=dark] .colab-df-convert:hover {\n",
              "      background-color: #434B5C;\n",
              "      box-shadow: 0px 1px 3px 1px rgba(0, 0, 0, 0.15);\n",
              "      filter: drop-shadow(0px 1px 2px rgba(0, 0, 0, 0.3));\n",
              "      fill: #FFFFFF;\n",
              "    }\n",
              "  </style>\n",
              "\n",
              "      <script>\n",
              "        const buttonEl =\n",
              "          document.querySelector('#df-e365b4e9-4a3a-4c00-9fd0-004ae6f563db button.colab-df-convert');\n",
              "        buttonEl.style.display =\n",
              "          google.colab.kernel.accessAllowed ? 'block' : 'none';\n",
              "\n",
              "        async function convertToInteractive(key) {\n",
              "          const element = document.querySelector('#df-e365b4e9-4a3a-4c00-9fd0-004ae6f563db');\n",
              "          const dataTable =\n",
              "            await google.colab.kernel.invokeFunction('convertToInteractive',\n",
              "                                                     [key], {});\n",
              "          if (!dataTable) return;\n",
              "\n",
              "          const docLinkHtml = 'Like what you see? Visit the ' +\n",
              "            '<a target=\"_blank\" href=https://colab.research.google.com/notebooks/data_table.ipynb>data table notebook</a>'\n",
              "            + ' to learn more about interactive tables.';\n",
              "          element.innerHTML = '';\n",
              "          dataTable['output_type'] = 'display_data';\n",
              "          await google.colab.output.renderOutput(dataTable, element);\n",
              "          const docLink = document.createElement('div');\n",
              "          docLink.innerHTML = docLinkHtml;\n",
              "          element.appendChild(docLink);\n",
              "        }\n",
              "      </script>\n",
              "    </div>\n",
              "  </div>\n",
              "  "
            ]
          },
          "metadata": {},
          "execution_count": 97
        }
      ],
      "source": [
        "data.head()"
      ]
    },
    {
      "cell_type": "markdown",
      "metadata": {
        "id": "i2n3g4HmemnZ"
      },
      "source": [
        "## Exploratory Data Analysis"
      ]
    },
    {
      "cell_type": "markdown",
      "metadata": {
        "id": "wZ5KTelaewz0"
      },
      "source": [
        "1. Distribution of use_of_ip"
      ]
    },
    {
      "cell_type": "code",
      "execution_count": null,
      "metadata": {
        "colab": {
          "base_uri": "https://localhost:8080/",
          "height": 285
        },
        "id": "H5wPWYAeb4n4",
        "outputId": "31b7c1b0-91e1-4eed-e2a3-8b59204958f1"
      },
      "outputs": [
        {
          "output_type": "display_data",
          "data": {
            "text/plain": [
              "<Figure size 432x288 with 1 Axes>"
            ],
            "image/png": "[encoded data removed]"
          },
          "metadata": {}
        }
      ],
      "source": [
        "import seaborn as sns\n",
        "sns.set(style=\"darkgrid\")\n",
        "ax = sns.countplot(y=\"type\", data=data, hue=\"use_of_ip\")"
      ]
    },
    {
      "cell_type": "markdown",
      "metadata": {
        "id": "0lJDTPgyfagK"
      },
      "source": [
        "2. Distribution of Abnormal URL"
      ]
    },
    {
      "cell_type": "code",
      "execution_count": null,
      "metadata": {
        "colab": {
          "base_uri": "https://localhost:8080/",
          "height": 285
        },
        "id": "BbCY9kQ5fCrN",
        "outputId": "485a1ed8-769c-4960-fb39-699ba841bdd2"
      },
      "outputs": [
        {
          "output_type": "display_data",
          "data": {
            "text/plain": [
              "<Figure size 432x288 with 1 Axes>"
            ],
            "image/png": "[encoded data removed]"
          },
          "metadata": {}
        }
      ],
      "source": [
        "sns.set(style=\"darkgrid\")\n",
        "ax = sns.countplot(y=\"type\", data=data, hue=\"abnormal_url\")"
      ]
    },
    {
      "cell_type": "markdown",
      "metadata": {
        "id": "cvC7pxRIfptH"
      },
      "source": [
        "3. Distribution of Google Index"
      ]
    },
    {
      "cell_type": "code",
      "execution_count": null,
      "metadata": {
        "colab": {
          "base_uri": "https://localhost:8080/",
          "height": 285
        },
        "id": "bICxH2mDfnWC",
        "outputId": "523f20b1-4bad-43aa-c77b-948d03a651c3"
      },
      "outputs": [
        {
          "output_type": "display_data",
          "data": {
            "text/plain": [
              "<Figure size 432x288 with 1 Axes>"
            ],
            "image/png": "[encoded data removed]"
          },
          "metadata": {}
        }
      ],
      "source": [
        "sns.set(style=\"darkgrid\")\n",
        "ax = sns.countplot(y=\"type\", data=data, hue=\"google_index\")"
      ]
    },
    {
      "cell_type": "markdown",
      "metadata": {
        "id": "4rlsQLKXgKJ0"
      },
      "source": [
        "4. Distribution of Short URL"
      ]
    },
    {
      "cell_type": "code",
      "execution_count": null,
      "metadata": {
        "colab": {
          "base_uri": "https://localhost:8080/",
          "height": 285
        },
        "id": "jkFlu4ocf4am",
        "outputId": "a9f684e5-1f4a-40a9-92f3-5e36a4cb328b"
      },
      "outputs": [
        {
          "output_type": "display_data",
          "data": {
            "text/plain": [
              "<Figure size 432x288 with 1 Axes>"
            ],
            "image/png": "[encoded data removed]"
          },
          "metadata": {}
        }
      ],
      "source": [
        "sns.set(style=\"darkgrid\")\n",
        "ax = sns.countplot(y=\"type\", data=data, hue=\"short_url\")"
      ]
    },
    {
      "cell_type": "markdown",
      "metadata": {
        "id": "JEhQbis-giPz"
      },
      "source": [
        "5. Distribution of Suspicious URL"
      ]
    },
    {
      "cell_type": "code",
      "execution_count": null,
      "metadata": {
        "colab": {
          "base_uri": "https://localhost:8080/",
          "height": 285
        },
        "id": "gITenmDhgX4v",
        "outputId": "cd1898d8-f124-423d-aedc-b96c4c1250f8"
      },
      "outputs": [
        {
          "output_type": "display_data",
          "data": {
            "text/plain": [
              "<Figure size 432x288 with 1 Axes>"
            ],
            "image/png": "[encoded data removed]"
          },
          "metadata": {}
        }
      ],
      "source": [
        "sns.set(style=\"darkgrid\")\n",
        "ax = sns.countplot(y=\"type\", data=data, hue=\"sus_url\")"
      ]
    },
    {
      "cell_type": "markdown",
      "metadata": {
        "id": "_d-i5PpDgvmo"
      },
      "source": [
        "6. Distribution of count of [.] dot"
      ]
    },
    {
      "cell_type": "code",
      "execution_count": null,
      "metadata": {
        "colab": {
          "base_uri": "https://localhost:8080/",
          "height": 365
        },
        "id": "J-NuNmS2gn39",
        "outputId": "0ed0e4d9-fba3-42ea-b49d-7a8dcad6d344"
      },
      "outputs": [
        {
          "output_type": "display_data",
          "data": {
            "text/plain": [
              "<Figure size 360x360 with 1 Axes>"
            ],
            "image/png": "[encoded data removed]"
          },
          "metadata": {}
        }
      ],
      "source": [
        "sns.set(style=\"darkgrid\")\n",
        "ax = sns.catplot(x=\"type\", y=\"count.\", kind=\"box\", data=data)"
      ]
    },
    {
      "cell_type": "markdown",
      "metadata": {
        "id": "4g6ppLAWh12G"
      },
      "source": [
        "7. Distribution of count-www"
      ]
    },
    {
      "cell_type": "code",
      "execution_count": null,
      "metadata": {
        "colab": {
          "base_uri": "https://localhost:8080/",
          "height": 365
        },
        "id": "RvzPifachR84",
        "outputId": "2d75e200-45d3-497a-917a-9052bfccad9f"
      },
      "outputs": [
        {
          "output_type": "display_data",
          "data": {
            "text/plain": [
              "<Figure size 360x360 with 1 Axes>"
            ],
            "image/png": "[encoded data removed]"
          },
          "metadata": {}
        }
      ],
      "source": [
        "sns.set(style=\"darkgrid\")\n",
        "ax = sns.catplot(x=\"type\", y=\"count-www\", kind=\"box\", data=data)"
      ]
    },
    {
      "cell_type": "markdown",
      "metadata": {
        "id": "Eyj_cKoVh9y_"
      },
      "source": [
        "8. Distribution of count @"
      ]
    },
    {
      "cell_type": "code",
      "execution_count": null,
      "metadata": {
        "colab": {
          "base_uri": "https://localhost:8080/",
          "height": 365
        },
        "id": "OdhU6HqXh7QE",
        "outputId": "7e399d1c-5dfc-4148-ec9d-06b2e58b150d"
      },
      "outputs": [
        {
          "output_type": "display_data",
          "data": {
            "text/plain": [
              "<Figure size 360x360 with 1 Axes>"
            ],
            "image/png": "[encoded data removed]"
          },
          "metadata": {}
        }
      ],
      "source": [
        "sns.set(style=\"darkgrid\")\n",
        "ax = sns.catplot(x=\"type\", y=\"count@\", kind=\"box\", data=data)"
      ]
    },
    {
      "cell_type": "markdown",
      "metadata": {
        "id": "lR28vAnKiPp2"
      },
      "source": [
        "9. Distribution of count_dir"
      ]
    },
    {
      "cell_type": "code",
      "execution_count": null,
      "metadata": {
        "colab": {
          "base_uri": "https://localhost:8080/",
          "height": 365
        },
        "id": "Cz-1f9btiIEi",
        "outputId": "5c589f0a-6af1-4a85-ab42-4ce4a35689d1"
      },
      "outputs": [
        {
          "output_type": "display_data",
          "data": {
            "text/plain": [
              "<Figure size 360x360 with 1 Axes>"
            ],
            "image/png": "[encoded data removed]"
          },
          "metadata": {}
        }
      ],
      "source": [
        "sns.set(style=\"darkgrid\")\n",
        "ax = sns.catplot(x=\"type\", y=\"count_dir\", kind=\"box\", data=data)"
      ]
    },
    {
      "cell_type": "markdown",
      "metadata": {
        "id": "kgFXwx_TiW43"
      },
      "source": [
        "10. Distribution of hostname length"
      ]
    },
    {
      "cell_type": "code",
      "execution_count": null,
      "metadata": {
        "colab": {
          "base_uri": "https://localhost:8080/",
          "height": 365
        },
        "id": "BQI6GngciU8i",
        "outputId": "5ea8a6e5-2388-43b1-a03b-542040639a9f"
      },
      "outputs": [
        {
          "output_type": "display_data",
          "data": {
            "text/plain": [
              "<Figure size 360x360 with 1 Axes>"
            ],
            "image/png": "[encoded data removed]"
          },
          "metadata": {}
        }
      ],
      "source": [
        "sns.set(style=\"darkgrid\")\n",
        "ax = sns.catplot(x=\"type\", y=\"hostname_length\", kind=\"box\", data=data)"
      ]
    },
    {
      "cell_type": "markdown",
      "metadata": {
        "id": "xLBJm-pQihlC"
      },
      "source": [
        "11. Distribution of First Directory Length"
      ]
    },
    {
      "cell_type": "code",
      "execution_count": null,
      "metadata": {
        "colab": {
          "base_uri": "https://localhost:8080/",
          "height": 365
        },
        "id": "UzPV2mv0ifIY",
        "outputId": "c7bb6d18-d0c8-4154-e0e4-1cf69a26adc7"
      },
      "outputs": [
        {
          "output_type": "display_data",
          "data": {
            "text/plain": [
              "<Figure size 360x360 with 1 Axes>"
            ],
            "image/png": "[encoded data removed]"
          },
          "metadata": {}
        }
      ],
      "source": [
        "sns.set(style=\"darkgrid\")\n",
        "ax = sns.catplot(x=\"type\", y=\"fd_length\", kind=\"box\", data=data)"
      ]
    },
    {
      "cell_type": "markdown",
      "metadata": {
        "id": "J7Id1GOTiwGd"
      },
      "source": [
        "12. Distribution of Top-level Domain length"
      ]
    },
    {
      "cell_type": "code",
      "execution_count": null,
      "metadata": {
        "colab": {
          "base_uri": "https://localhost:8080/",
          "height": 365
        },
        "id": "pGhHfuwWipkh",
        "outputId": "ce9aa3d8-ff94-4f31-8253-6e30fa63a236"
      },
      "outputs": [
        {
          "output_type": "display_data",
          "data": {
            "text/plain": [
              "<Figure size 360x360 with 1 Axes>"
            ],
            "image/png": "[encoded data removed]"
          },
          "metadata": {}
        }
      ],
      "source": [
        "sns.set(style=\"darkgrid\")\n",
        "ax = sns.catplot(x=\"type\", y=\"tld_length\", kind=\"box\", data=data)"
      ]
    },
    {
      "cell_type": "markdown",
      "metadata": {
        "id": "4Hx6rgczjMoU"
      },
      "source": [
        "## Target Encoding"
      ]
    },
    {
      "cell_type": "code",
      "execution_count": null,
      "metadata": {
        "colab": {
          "base_uri": "https://localhost:8080/"
        },
        "id": "Ag98rVgUi6zG",
        "outputId": "f7b8ae44-b9b4-4fda-f53c-8b417c77f2ae"
      },
      "outputs": [
        {
          "output_type": "execute_result",
          "data": {
            "text/plain": [
              "0    428103\n",
              "1     96457\n",
              "3     94111\n",
              "2     32520\n",
              "Name: type_code, dtype: int64"
            ]
          },
          "metadata": {},
          "execution_count": 110
        }
      ],
      "source": [
        "from sklearn.preprocessing import LabelEncoder\n",
        "\n",
        "lb_make = LabelEncoder()\n",
        "data[\"type_code\"] = lb_make.fit_transform(data[\"type\"])\n",
        "data[\"type_code\"].value_counts()"
      ]
    },
    {
      "cell_type": "markdown",
      "metadata": {
        "id": "A5NbwRUKjtiZ"
      },
      "source": [
        "### Creation of Feature and Target"
      ]
    },
    {
      "cell_type": "code",
      "execution_count": null,
      "metadata": {
        "id": "E0OWlorDjmZ9"
      },
      "outputs": [],
      "source": [
        "# Predictor Variables\n",
        "# filtering out google_index as it has only 1 value\n",
        "X = data[['use_of_ip','abnormal_url', 'count.', 'count-www', 'count@',\n",
        "       'count_dir', 'count_embed_domian', 'short_url', 'count-https',\n",
        "       'count-http', 'count%', 'count?', 'count-', 'count=', 'url_length',\n",
        "       'hostname_length', 'sus_url', 'fd_length', 'tld_length', 'count-digits',\n",
        "       'count-letters']]\n",
        "\n",
        "#Target Variable\n",
        "y = data['type_code']"
      ]
    },
    {
      "cell_type": "code",
      "execution_count": null,
      "metadata": {
        "colab": {
          "base_uri": "https://localhost:8080/",
          "height": 317
        },
        "id": "pEa6b3u2kD6-",
        "outputId": "275286c5-40c6-4fde-c043-87dc35ee190d"
      },
      "outputs": [
        {
          "output_type": "execute_result",
          "data": {
            "text/plain": [
              "   use_of_ip  abnormal_url  count.  count-www  count@  count_dir  \\\n",
              "0          0             0       2          0       0          0   \n",
              "1          0             0       2          0       0          2   \n",
              "2          0             0       2          0       0          3   \n",
              "3          0             1       3          1       0          1   \n",
              "4          0             1       2          0       0          1   \n",
              "\n",
              "   count_embed_domian  short_url  count-https  count-http  ...  count?  \\\n",
              "0                   0          0            0           0  ...       0   \n",
              "1                   0          0            0           0  ...       0   \n",
              "2                   0          0            0           0  ...       0   \n",
              "3                   0          0            0           1  ...       1   \n",
              "4                   0          0            0           1  ...       1   \n",
              "\n",
              "   count-  count=  url_length  hostname_length  sus_url  fd_length  \\\n",
              "0       1       0          16                0        0          0   \n",
              "1       0       0          35                0        0          5   \n",
              "2       0       0          31                0        0          7   \n",
              "3       1       4          88               21        0          9   \n",
              "4       1       3         235               23        0          9   \n",
              "\n",
              "   tld_length  count-digits  count-letters  \n",
              "0          -1             0             13  \n",
              "1          -1             1             29  \n",
              "2          -1             1             25  \n",
              "3           2             7             63  \n",
              "4           3            22            199  \n",
              "\n",
              "[5 rows x 21 columns]"
            ],
            "text/html": [
              "\n",
              "  <div id=\"df-b589de6f-371e-4cab-a1e7-da692f55772d\">\n",
              "    <div class=\"colab-df-container\">\n",
              "      <div>\n",
              "<style scoped>\n",
              "    .dataframe tbody tr th:only-of-type {\n",
              "        vertical-align: middle;\n",
              "    }\n",
              "\n",
              "    .dataframe tbody tr th {\n",
              "        vertical-align: top;\n",
              "    }\n",
              "\n",
              "    .dataframe thead th {\n",
              "        text-align: right;\n",
              "    }\n",
              "</style>\n",
              "<table border=\"1\" class=\"dataframe\">\n",
              "  <thead>\n",
              "    <tr style=\"text-align: right;\">\n",
              "      <th></th>\n",
              "      <th>use_of_ip</th>\n",
              "      <th>abnormal_url</th>\n",
              "      <th>count.</th>\n",
              "      <th>count-www</th>\n",
              "      <th>count@</th>\n",
              "      <th>count_dir</th>\n",
              "      <th>count_embed_domian</th>\n",
              "      <th>short_url</th>\n",
              "      <th>count-https</th>\n",
              "      <th>count-http</th>\n",
              "      <th>...</th>\n",
              "      <th>count?</th>\n",
              "      <th>count-</th>\n",
              "      <th>count=</th>\n",
              "      <th>url_length</th>\n",
              "      <th>hostname_length</th>\n",
              "      <th>sus_url</th>\n",
              "      <th>fd_length</th>\n",
              "      <th>tld_length</th>\n",
              "      <th>count-digits</th>\n",
              "      <th>count-letters</th>\n",
              "    </tr>\n",
              "  </thead>\n",
              "  <tbody>\n",
              "    <tr>\n",
              "      <th>0</th>\n",
              "      <td>0</td>\n",
              "      <td>0</td>\n",
              "      <td>2</td>\n",
              "      <td>0</td>\n",
              "      <td>0</td>\n",
              "      <td>0</td>\n",
              "      <td>0</td>\n",
              "      <td>0</td>\n",
              "      <td>0</td>\n",
              "      <td>0</td>\n",
              "      <td>...</td>\n",
              "      <td>0</td>\n",
              "      <td>1</td>\n",
              "      <td>0</td>\n",
              "      <td>16</td>\n",
              "      <td>0</td>\n",
              "      <td>0</td>\n",
              "      <td>0</td>\n",
              "      <td>-1</td>\n",
              "      <td>0</td>\n",
              "      <td>13</td>\n",
              "    </tr>\n",
              "    <tr>\n",
              "      <th>1</th>\n",
              "      <td>0</td>\n",
              "      <td>0</td>\n",
              "      <td>2</td>\n",
              "      <td>0</td>\n",
              "      <td>0</td>\n",
              "      <td>2</td>\n",
              "      <td>0</td>\n",
              "      <td>0</td>\n",
              "      <td>0</td>\n",
              "      <td>0</td>\n",
              "      <td>...</td>\n",
              "      <td>0</td>\n",
              "      <td>0</td>\n",
              "      <td>0</td>\n",
              "      <td>35</td>\n",
              "      <td>0</td>\n",
              "      <td>0</td>\n",
              "      <td>5</td>\n",
              "      <td>-1</td>\n",
              "      <td>1</td>\n",
              "      <td>29</td>\n",
              "    </tr>\n",
              "    <tr>\n",
              "      <th>2</th>\n",
              "      <td>0</td>\n",
              "      <td>0</td>\n",
              "      <td>2</td>\n",
              "      <td>0</td>\n",
              "      <td>0</td>\n",
              "      <td>3</td>\n",
              "      <td>0</td>\n",
              "      <td>0</td>\n",
              "      <td>0</td>\n",
              "      <td>0</td>\n",
              "      <td>...</td>\n",
              "      <td>0</td>\n",
              "      <td>0</td>\n",
              "      <td>0</td>\n",
              "      <td>31</td>\n",
              "      <td>0</td>\n",
              "      <td>0</td>\n",
              "      <td>7</td>\n",
              "      <td>-1</td>\n",
              "      <td>1</td>\n",
              "      <td>25</td>\n",
              "    </tr>\n",
              "    <tr>\n",
              "      <th>3</th>\n",
              "      <td>0</td>\n",
              "      <td>1</td>\n",
              "      <td>3</td>\n",
              "      <td>1</td>\n",
              "      <td>0</td>\n",
              "      <td>1</td>\n",
              "      <td>0</td>\n",
              "      <td>0</td>\n",
              "      <td>0</td>\n",
              "      <td>1</td>\n",
              "      <td>...</td>\n",
              "      <td>1</td>\n",
              "      <td>1</td>\n",
              "      <td>4</td>\n",
              "      <td>88</td>\n",
              "      <td>21</td>\n",
              "      <td>0</td>\n",
              "      <td>9</td>\n",
              "      <td>2</td>\n",
              "      <td>7</td>\n",
              "      <td>63</td>\n",
              "    </tr>\n",
              "    <tr>\n",
              "      <th>4</th>\n",
              "      <td>0</td>\n",
              "      <td>1</td>\n",
              "      <td>2</td>\n",
              "      <td>0</td>\n",
              "      <td>0</td>\n",
              "      <td>1</td>\n",
              "      <td>0</td>\n",
              "      <td>0</td>\n",
              "      <td>0</td>\n",
              "      <td>1</td>\n",
              "      <td>...</td>\n",
              "      <td>1</td>\n",
              "      <td>1</td>\n",
              "      <td>3</td>\n",
              "      <td>235</td>\n",
              "      <td>23</td>\n",
              "      <td>0</td>\n",
              "      <td>9</td>\n",
              "      <td>3</td>\n",
              "      <td>22</td>\n",
              "      <td>199</td>\n",
              "    </tr>\n",
              "  </tbody>\n",
              "</table>\n",
              "<p>5 rows × 21 columns</p>\n",
              "</div>\n",
              "      <button class=\"colab-df-convert\" onclick=\"convertToInteractive('df-b589de6f-371e-4cab-a1e7-da692f55772d')\"\n",
              "              title=\"Convert this dataframe to an interactive table.\"\n",
              "              style=\"display:none;\">\n",
              "        \n",
              "  <svg xmlns=\"http://www.w3.org/2000/svg\" height=\"24px\"viewBox=\"0 0 24 24\"\n",
              "       width=\"24px\">\n",
              "    <path d=\"M0 0h24v24H0V0z\" fill=\"none\"/>\n",
              "    <path d=\"M18.56 5.44l.94 2.06.94-2.06 2.06-.94-2.06-.94-.94-2.06-.94 2.06-2.06.94zm-11 1L8.5 8.5l.94-2.06 2.06-.94-2.06-.94L8.5 2.5l-.94 2.06-2.06.94zm10 10l.94 2.06.94-2.06 2.06-.94-2.06-.94-.94-2.06-.94 2.06-2.06.94z\"/><path d=\"M17.41 7.96l-1.37-1.37c-.4-.4-.92-.59-1.43-.59-.52 0-1.04.2-1.43.59L10.3 9.45l-7.72 7.72c-.78.78-.78 2.05 0 2.83L4 21.41c.39.39.9.59 1.41.59.51 0 1.02-.2 1.41-.59l7.78-7.78 2.81-2.81c.8-.78.8-2.07 0-2.86zM5.41 20L4 18.59l7.72-7.72 1.47 1.35L5.41 20z\"/>\n",
              "  </svg>\n",
              "      </button>\n",
              "      \n",
              "  <style>\n",
              "    .colab-df-container {\n",
              "      display:flex;\n",
              "      flex-wrap:wrap;\n",
              "      gap: 12px;\n",
              "    }\n",
              "\n",
              "    .colab-df-convert {\n",
              "      background-color: #E8F0FE;\n",
              "      border: none;\n",
              "      border-radius: 50%;\n",
              "      cursor: pointer;\n",
              "      display: none;\n",
              "      fill: #1967D2;\n",
              "      height: 32px;\n",
              "      padding: 0 0 0 0;\n",
              "      width: 32px;\n",
              "    }\n",
              "\n",
              "    .colab-df-convert:hover {\n",
              "      background-color: #E2EBFA;\n",
              "      box-shadow: 0px 1px 2px rgba(60, 64, 67, 0.3), 0px 1px 3px 1px rgba(60, 64, 67, 0.15);\n",
              "      fill: #174EA6;\n",
              "    }\n",
              "\n",
              "    [theme=dark] .colab-df-convert {\n",
              "      background-color: #3B4455;\n",
              "      fill: #D2E3FC;\n",
              "    }\n",
              "\n",
              "    [theme=dark] .colab-df-convert:hover {\n",
              "      background-color: #434B5C;\n",
              "      box-shadow: 0px 1px 3px 1px rgba(0, 0, 0, 0.15);\n",
              "      filter: drop-shadow(0px 1px 2px rgba(0, 0, 0, 0.3));\n",
              "      fill: #FFFFFF;\n",
              "    }\n",
              "  </style>\n",
              "\n",
              "      <script>\n",
              "        const buttonEl =\n",
              "          document.querySelector('#df-b589de6f-371e-4cab-a1e7-da692f55772d button.colab-df-convert');\n",
              "        buttonEl.style.display =\n",
              "          google.colab.kernel.accessAllowed ? 'block' : 'none';\n",
              "\n",
              "        async function convertToInteractive(key) {\n",
              "          const element = document.querySelector('#df-b589de6f-371e-4cab-a1e7-da692f55772d');\n",
              "          const dataTable =\n",
              "            await google.colab.kernel.invokeFunction('convertToInteractive',\n",
              "                                                     [key], {});\n",
              "          if (!dataTable) return;\n",
              "\n",
              "          const docLinkHtml = 'Like what you see? Visit the ' +\n",
              "            '<a target=\"_blank\" href=https://colab.research.google.com/notebooks/data_table.ipynb>data table notebook</a>'\n",
              "            + ' to learn more about interactive tables.';\n",
              "          element.innerHTML = '';\n",
              "          dataTable['output_type'] = 'display_data';\n",
              "          await google.colab.output.renderOutput(dataTable, element);\n",
              "          const docLink = document.createElement('div');\n",
              "          docLink.innerHTML = docLinkHtml;\n",
              "          element.appendChild(docLink);\n",
              "        }\n",
              "      </script>\n",
              "    </div>\n",
              "  </div>\n",
              "  "
            ]
          },
          "metadata": {},
          "execution_count": 112
        }
      ],
      "source": [
        "X.head()"
      ]
    },
    {
      "cell_type": "code",
      "execution_count": null,
      "metadata": {
        "colab": {
          "base_uri": "https://localhost:8080/"
        },
        "id": "w3bsopqBkF7x",
        "outputId": "9442591d-54f7-40bc-a694-532cf2feb508"
      },
      "outputs": [
        {
          "output_type": "execute_result",
          "data": {
            "text/plain": [
              "Index(['use_of_ip', 'abnormal_url', 'count.', 'count-www', 'count@',\n",
              "       'count_dir', 'count_embed_domian', 'short_url', 'count-https',\n",
              "       'count-http', 'count%', 'count?', 'count-', 'count=', 'url_length',\n",
              "       'hostname_length', 'sus_url', 'fd_length', 'tld_length', 'count-digits',\n",
              "       'count-letters'],\n",
              "      dtype='object')"
            ]
          },
          "metadata": {},
          "execution_count": 113
        }
      ],
      "source": [
        "X.columns"
      ]
    },
    {
      "cell_type": "markdown",
      "metadata": {
        "id": "d10aLTZ2kSXd"
      },
      "source": [
        "### Splitting the training and testing data"
      ]
    },
    {
      "cell_type": "code",
      "execution_count": null,
      "metadata": {
        "id": "pc1TMU1jkIOH"
      },
      "outputs": [],
      "source": [
        "X_train, X_test, y_train, y_test = train_test_split(X, y, stratify=y, test_size=0.2, shuffle=True, random_state=5)"
      ]
    },
    {
      "cell_type": "markdown",
      "metadata": {
        "id": "Vl85WSM9k3Hk"
      },
      "source": [
        "### Model Building"
      ]
    },
    {
      "cell_type": "markdown",
      "metadata": {
        "id": "x4sTuP8Bk6jL"
      },
      "source": [
        "1. Random Forest Classifier"
      ]
    },
    {
      "cell_type": "code",
      "execution_count": null,
      "metadata": {
        "colab": {
          "base_uri": "https://localhost:8080/"
        },
        "id": "6AnzodIEkj_J",
        "outputId": "58967a11-5417-4d6a-db27-f74e91979b77"
      },
      "outputs": [
        {
          "output_type": "stream",
          "name": "stdout",
          "text": [
            "              precision    recall  f1-score   support\n",
            "\n",
            "      benign       0.97      0.98      0.98     85621\n",
            "  defacement       0.98      0.99      0.99     19292\n",
            "    phishing       0.99      0.94      0.96      6504\n",
            "     malware       0.91      0.86      0.88     18822\n",
            "\n",
            "    accuracy                           0.97    130239\n",
            "   macro avg       0.96      0.95      0.95    130239\n",
            "weighted avg       0.97      0.97      0.97    130239\n",
            "\n",
            "accuracy:   0.966\n"
          ]
        }
      ],
      "source": [
        "from sklearn.ensemble import RandomForestClassifier\n",
        "rf = RandomForestClassifier(n_estimators=100,max_features='sqrt')\n",
        "rf.fit(X_train,y_train)\n",
        "y_pred_rf = rf.predict(X_test)\n",
        "print(classification_report(y_test,y_pred_rf,target_names=['benign', 'defacement','phishing','malware']))\n",
        "\n",
        "score = metrics.accuracy_score(y_test, y_pred_rf)\n",
        "print(\"accuracy:   %0.3f\" % score)"
      ]
    },
    {
      "cell_type": "code",
      "execution_count": null,
      "metadata": {
        "colab": {
          "base_uri": "https://localhost:8080/",
          "height": 410
        },
        "id": "Yi75Kaxal9LW",
        "outputId": "37a7a220-1a80-471a-fb77-3e24bc4d503d"
      },
      "outputs": [
        {
          "output_type": "display_data",
          "data": {
            "text/plain": [
              "<Figure size 576x432 with 2 Axes>"
            ],
            "image/png": "[encoded data removed]"
          },
          "metadata": {}
        }
      ],
      "source": [
        "# Confusion matrix\n",
        "\n",
        "cm = confusion_matrix(y_test, y_pred_rf)\n",
        "cm_data = pd.DataFrame(cm,\n",
        "                       index = ['benign','defacement','phishing','malware'],\n",
        "                       columns = ['benign','defaement','phishing','malware'])\n",
        "plt.figure(figsize=(8,6))\n",
        "sns.heatmap(cm_data, annot=True, fmt=\".1f\")\n",
        "plt.title('Confusion Matrix')\n",
        "plt.ylabel('Actual Values')\n",
        "plt.xlabel('Predicted Values')\n",
        "plt.show()"
      ]
    },
    {
      "cell_type": "markdown",
      "metadata": {
        "id": "Ki4Y1JTmnz4r"
      },
      "source": [
        "# Feature Importance"
      ]
    },
    {
      "cell_type": "code",
      "execution_count": null,
      "metadata": {
        "colab": {
          "base_uri": "https://localhost:8080/",
          "height": 394
        },
        "id": "NFfPrSLsnfut",
        "outputId": "81d3d251-04f5-42ed-d917-e2d18efabcc0"
      },
      "outputs": [
        {
          "output_type": "execute_result",
          "data": {
            "text/plain": [
              "<matplotlib.axes._subplots.AxesSubplot at 0x7fc6562c4b20>"
            ]
          },
          "metadata": {},
          "execution_count": 117
        },
        {
          "output_type": "display_data",
          "data": {
            "text/plain": [
              "<Figure size 720x432 with 1 Axes>"
            ],
            "image/png": "[encoded data removed]"
          },
          "metadata": {}
        }
      ],
      "source": [
        "feat_importances = pd.Series(rf.feature_importances_, index=X_train.columns)\n",
        "feat_importances.sort_values().plot(kind=\"barh\",figsize=(10, 6))"
      ]
    },
    {
      "cell_type": "markdown",
      "metadata": {
        "id": "X62BMW9koQ-T"
      },
      "source": [
        "2. Light GBM Classifier"
      ]
    },
    {
      "cell_type": "code",
      "execution_count": null,
      "metadata": {
        "colab": {
          "base_uri": "https://localhost:8080/"
        },
        "id": "wC52ntQGn5U9",
        "outputId": "edf46a47-5a7c-4cb9-bcb9-270925cee866"
      },
      "outputs": [
        {
          "output_type": "stream",
          "name": "stdout",
          "text": [
            "              precision    recall  f1-score   support\n",
            "\n",
            "      benign       0.97      0.99      0.98     85621\n",
            "  defacement       0.96      0.99      0.97     19292\n",
            "    phishing       0.96      0.89      0.92      6504\n",
            "     malware       0.90      0.81      0.85     18822\n",
            "\n",
            "    accuracy                           0.96    130239\n",
            "   macro avg       0.95      0.92      0.93    130239\n",
            "weighted avg       0.95      0.96      0.95    130239\n",
            "\n",
            "accuracy:   0.956\n"
          ]
        }
      ],
      "source": [
        "lgb = LGBMClassifier(objective='multiclass',boosting_type= 'gbdt',n_jobs = 5, \n",
        "          silent = True, random_state=5)\n",
        "LGB_C = lgb.fit(X_train, y_train)\n",
        "\n",
        "\n",
        "y_pred_lgb = LGB_C.predict(X_test)\n",
        "print(classification_report(y_test,y_pred_lgb,target_names=['benign', 'defacement','phishing','malware']))\n",
        "\n",
        "score = metrics.accuracy_score(y_test, y_pred_lgb)\n",
        "print(\"accuracy:   %0.3f\" % score)"
      ]
    },
    {
      "cell_type": "code",
      "execution_count": null,
      "metadata": {
        "id": "E8eUPFbEobvJ",
        "colab": {
          "base_uri": "https://localhost:8080/",
          "height": 410
        },
        "outputId": "e2dd7b2f-67f6-4c68-f1f1-347e80267b06"
      },
      "outputs": [
        {
          "output_type": "display_data",
          "data": {
            "text/plain": [
              "<Figure size 576x432 with 2 Axes>"
            ],
            "image/png": "[encoded data removed]"
          },
          "metadata": {}
        }
      ],
      "source": [
        "# Confusion matrix\n",
        "\n",
        "cm = confusion_matrix(y_test, y_pred_lgb)\n",
        "cm_data = pd.DataFrame(cm,\n",
        "                       index = ['benign','defacement','phishing','malware'],\n",
        "                       columns = ['benign','defaement','phishing','malware'])\n",
        "plt.figure(figsize=(8,6))\n",
        "sns.heatmap(cm_data, annot=True, fmt=\".1f\")\n",
        "plt.title('Confusion Matrix')\n",
        "plt.ylabel('Actual Values')\n",
        "plt.xlabel('Predicted Values')\n",
        "plt.show()"
      ]
    },
    {
      "cell_type": "code",
      "execution_count": null,
      "metadata": {
        "id": "vHfsx5F8pBXM",
        "colab": {
          "base_uri": "https://localhost:8080/",
          "height": 394
        },
        "outputId": "d0bfb6d2-c3b9-48e8-8bcb-ba1457268e78"
      },
      "outputs": [
        {
          "output_type": "execute_result",
          "data": {
            "text/plain": [
              "<matplotlib.axes._subplots.AxesSubplot at 0x7fc656414820>"
            ]
          },
          "metadata": {},
          "execution_count": 120
        },
        {
          "output_type": "display_data",
          "data": {
            "text/plain": [
              "<Figure size 720x432 with 1 Axes>"
            ],
            "image/png": "[encoded data removed]"
          },
          "metadata": {}
        }
      ],
      "source": [
        "# Feature Importance\n",
        "feat_importances = pd.Series(lgb.feature_importances_, index=X_train.columns)\n",
        "feat_importances.sort_values().plot(kind=\"barh\",figsize=(10, 6))"
      ]
    },
    {
      "cell_type": "markdown",
      "metadata": {
        "id": "S-_hPDUEphRl"
      },
      "source": [
        "3. XGBoost Classifier"
      ]
    },
    {
      "cell_type": "code",
      "execution_count": null,
      "metadata": {
        "colab": {
          "base_uri": "https://localhost:8080/"
        },
        "id": "TiqmijVcpY_i",
        "outputId": "95a47e8f-4e9a-448d-a4c0-7e84f5c0f974"
      },
      "outputs": [
        {
          "output_type": "stream",
          "name": "stdout",
          "text": [
            "              precision    recall  f1-score   support\n",
            "\n",
            "      benign       0.95      0.98      0.97     85621\n",
            "  defacement       0.89      0.96      0.92     19292\n",
            "    phishing       0.91      0.76      0.83      6504\n",
            "     malware       0.88      0.73      0.80     18822\n",
            "\n",
            "    accuracy                           0.93    130239\n",
            "   macro avg       0.91      0.86      0.88    130239\n",
            "weighted avg       0.93      0.93      0.93    130239\n",
            "\n",
            "accuracy:   0.933\n"
          ]
        }
      ],
      "source": [
        "xgb_c = xgb.XGBClassifier(n_estimators= 100)\n",
        "xgb_c.fit(X_train,y_train)\n",
        "y_pred_x = xgb_c.predict(X_test)\n",
        "print(classification_report(y_test,y_pred_x,target_names=['benign', 'defacement','phishing','malware']))\n",
        "\n",
        "\n",
        "score = metrics.accuracy_score(y_test, y_pred_x)\n",
        "print(\"accuracy:   %0.3f\" % score)"
      ]
    },
    {
      "cell_type": "code",
      "execution_count": null,
      "metadata": {
        "id": "rUxXKCRjppRg",
        "colab": {
          "base_uri": "https://localhost:8080/",
          "height": 54
        },
        "outputId": "433b42ad-5388-4efe-9d50-fc78593b9158"
      },
      "outputs": [
        {
          "output_type": "display_data",
          "data": {
            "text/plain": [
              "<Figure size 576x432 with 2 Axes>"
            ],
            "image/png": "[encoded data removed]"
          },
          "metadata": {}
        }
      ],
      "source": [
        "# Confusion matrix\n",
        "\n",
        "cm = confusion_matrix(y_test, y_pred_x)\n",
        "cm_data = pd.DataFrame(cm,\n",
        "                       index = ['benign','defacement','phishing','malware'],\n",
        "                       columns = ['benign','defaement','phishing','malware'])\n",
        "plt.figure(figsize=(8,6))\n",
        "sns.heatmap(cm_data, annot=True, fmt=\".1f\")\n",
        "plt.title('Confusion Matrix')\n",
        "plt.ylabel('Actual Values')\n",
        "plt.xlabel('Predicted Values')\n",
        "plt.show()"
      ]
    },
    {
      "cell_type": "code",
      "execution_count": null,
      "metadata": {
        "colab": {
          "base_uri": "https://localhost:8080/",
          "height": 106
        },
        "id": "vSH_TvJCqCDO",
        "outputId": "f7f4a438-904e-418a-ab09-90bb91088915"
      },
      "outputs": [
        {
          "output_type": "execute_result",
          "data": {
            "text/plain": [
              "<matplotlib.axes._subplots.AxesSubplot at 0x7fc650438b20>"
            ]
          },
          "metadata": {},
          "execution_count": 123
        },
        {
          "output_type": "display_data",
          "data": {
            "text/plain": [
              "<Figure size 720x432 with 1 Axes>"
            ],
            "image/png": "[encoded data removed]"
          },
          "metadata": {}
        }
      ],
      "source": [
        "# Feature Importance\n",
        "feat_importances = pd.Series(xgb_c.feature_importances_, index=X_train.columns)\n",
        "feat_importances.sort_values().plot(kind=\"barh\",figsize=(10, 6))"
      ]
    },
    {
      "cell_type": "markdown",
      "metadata": {
        "id": "OLJoDWiSqY3x"
      },
      "source": [
        "### Prediction"
      ]
    },
    {
      "cell_type": "code",
      "execution_count": null,
      "metadata": {
        "colab": {
          "base_uri": "https://localhost:8080/"
        },
        "id": "I_tDY6E_qXSj",
        "outputId": "9e548e33-6e6f-4a44-e533-3691c9e87d8a"
      },
      "outputs": [
        {
          "output_type": "stream",
          "name": "stdout",
          "text": [
            "MALWARE\n",
            "SAFE\n"
          ]
        }
      ],
      "source": [
        "def main(url):\n",
        "    \n",
        "    status = []\n",
        "    \n",
        "    status.append(having_ip_address(url))\n",
        "    status.append(abnormal_url(url))\n",
        "    status.append(count_dot(url))\n",
        "    status.append(count_www(url))\n",
        "    status.append(count_atrate(url))\n",
        "    status.append(no_of_dir(url))\n",
        "    status.append(no_of_embed(url))\n",
        "    \n",
        "    status.append(shortening_service(url))\n",
        "    status.append(count_https(url))\n",
        "    status.append(count_http(url))\n",
        "    \n",
        "    status.append(count_per(url))\n",
        "    status.append(count_ques(url))\n",
        "    status.append(count_hyphen(url))\n",
        "    status.append(count_equal(url))\n",
        "    \n",
        "    status.append(url_length(url))\n",
        "    status.append(hostname_length(url))\n",
        "    status.append(suspicious_words(url))\n",
        "    status.append(digit_count(url))\n",
        "    status.append(letter_count(url))\n",
        "    status.append(fd_length(url))\n",
        "    tld = get_tld(url,fail_silently=True)\n",
        "      \n",
        "    status.append(tld_length(tld))\n",
        "    \n",
        "    return status\n",
        "\n",
        "# Predict function \n",
        "\n",
        "def get_prediction_from_url(test_url):\n",
        "    features_test = main(test_url)\n",
        "  \n",
        "    features_test = np.array(features_test).reshape((1, -1))\n",
        "    pred = lgb.predict(features_test)\n",
        "    if int(pred[0]) == 0:\n",
        "        \n",
        "        res=\"SAFE\"\n",
        "        return res\n",
        "    elif int(pred[0]) == 1.0:\n",
        "        \n",
        "        res=\"DEFACEMENT\"\n",
        "        return res\n",
        "    elif int(pred[0]) == 2.0:\n",
        "        res=\"PHISHING\"\n",
        "        return res\n",
        "        \n",
        "    elif int(pred[0]) == 3.0:\n",
        "        \n",
        "        res=\"MALWARE\"\n",
        "        return res\n",
        "\n",
        "\n",
        "# Predicting sample raw URLs\n",
        "\n",
        "urls = ['titaniumcorporate.co.za','en.wikipedia.org/wiki/North_Dakota']\n",
        "\n",
        "for url in urls:\n",
        "     print(get_prediction_from_url(url))"
      ]
    },
    {
      "cell_type": "code",
      "execution_count": null,
      "metadata": {
        "colab": {
          "base_uri": "https://localhost:8080/"
        },
        "id": "-vj9ZDhqdnFh",
        "outputId": "f005f920-34a7-4dbb-e32a-4adb9e01cfae"
      },
      "outputs": [
        {
          "output_type": "stream",
          "name": "stdout",
          "text": [
            "SAFE\n",
            "SAFE\n"
          ]
        }
      ],
      "source": [
        "urls = ['https//www.seedify-finance.com/','https//facebook.com']\n",
        "for url in urls:\n",
        "  print(get_prediction_from_url(url))"
      ]
    },
    {
      "cell_type": "code",
      "execution_count": null,
      "metadata": {
        "id": "_SjIe7PqNSze"
      },
      "outputs": [],
      "source": []
    }
  ],
  "metadata": {
    "colab": {
      "provenance": [],
      "include_colab_link": true
    },
    "kernelspec": {
      "display_name": "Python 3",
      "name": "python3"
    },
    "language_info": {
      "name": "python"
    }
  },
  "nbformat": 4,
  "nbformat_minor": 0
}